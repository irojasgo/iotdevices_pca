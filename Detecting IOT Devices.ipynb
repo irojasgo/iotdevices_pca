{
 "cells": [
  {
   "cell_type": "markdown",
   "metadata": {},
   "source": [
    "# Project 8: IOT Device Identification, the PCA Version | Telling devices appart using Gradient Boosted Trees\n",
    "- Identified different IOT devices based on metrics associated with the same\n",
    "- Cross validation and Grid Search for model perforance evaluation\n",
    "- Used PCA to reduce dimentions and reduce model training time"
   ]
  },
  {
   "cell_type": "code",
   "execution_count": 43,
   "metadata": {},
   "outputs": [
    {
     "name": "stderr",
     "output_type": "stream",
     "text": [
      "C:\\Users\\Ivan\\AppData\\Local\\Temp\\ipykernel_6300\\2458507087.py:7: FutureWarning: The frame.append method is deprecated and will be removed from pandas in a future version. Use pandas.concat instead.\n",
      "  all_data = train_data.append(test_data)\n"
     ]
    },
    {
     "data": {
      "text/html": [
       "<div>\n",
       "<style scoped>\n",
       "    .dataframe tbody tr th:only-of-type {\n",
       "        vertical-align: middle;\n",
       "    }\n",
       "\n",
       "    .dataframe tbody tr th {\n",
       "        vertical-align: top;\n",
       "    }\n",
       "\n",
       "    .dataframe thead th {\n",
       "        text-align: right;\n",
       "    }\n",
       "</style>\n",
       "<table border=\"1\" class=\"dataframe\">\n",
       "  <thead>\n",
       "    <tr style=\"text-align: right;\">\n",
       "      <th></th>\n",
       "      <th>ack</th>\n",
       "      <th>ack_A</th>\n",
       "      <th>ack_B</th>\n",
       "      <th>bytes</th>\n",
       "      <th>bytes_A</th>\n",
       "      <th>bytes_A_B_ratio</th>\n",
       "      <th>bytes_B</th>\n",
       "      <th>ds_field_A</th>\n",
       "      <th>ds_field_B</th>\n",
       "      <th>duration</th>\n",
       "      <th>...</th>\n",
       "      <th>suffix_is_co.il</th>\n",
       "      <th>suffix_is_com</th>\n",
       "      <th>suffix_is_com.sg</th>\n",
       "      <th>suffix_is_else</th>\n",
       "      <th>suffix_is_empty_char_value</th>\n",
       "      <th>suffix_is_googleapis.com</th>\n",
       "      <th>suffix_is_net</th>\n",
       "      <th>suffix_is_org</th>\n",
       "      <th>suffix_is_unresolved</th>\n",
       "      <th>device_category</th>\n",
       "    </tr>\n",
       "  </thead>\n",
       "  <tbody>\n",
       "    <tr>\n",
       "      <th>0</th>\n",
       "      <td>9</td>\n",
       "      <td>5</td>\n",
       "      <td>5</td>\n",
       "      <td>1213</td>\n",
       "      <td>743</td>\n",
       "      <td>0.713924</td>\n",
       "      <td>668</td>\n",
       "      <td>0</td>\n",
       "      <td>0</td>\n",
       "      <td>1.5756</td>\n",
       "      <td>...</td>\n",
       "      <td>0</td>\n",
       "      <td>0</td>\n",
       "      <td>0</td>\n",
       "      <td>1</td>\n",
       "      <td>0</td>\n",
       "      <td>0</td>\n",
       "      <td>0</td>\n",
       "      <td>0</td>\n",
       "      <td>0</td>\n",
       "      <td>security_camera</td>\n",
       "    </tr>\n",
       "    <tr>\n",
       "      <th>1</th>\n",
       "      <td>9</td>\n",
       "      <td>5</td>\n",
       "      <td>5</td>\n",
       "      <td>1213</td>\n",
       "      <td>743</td>\n",
       "      <td>1.806874</td>\n",
       "      <td>668</td>\n",
       "      <td>0</td>\n",
       "      <td>0</td>\n",
       "      <td>0.6890</td>\n",
       "      <td>...</td>\n",
       "      <td>0</td>\n",
       "      <td>0</td>\n",
       "      <td>0</td>\n",
       "      <td>1</td>\n",
       "      <td>0</td>\n",
       "      <td>0</td>\n",
       "      <td>0</td>\n",
       "      <td>0</td>\n",
       "      <td>0</td>\n",
       "      <td>security_camera</td>\n",
       "    </tr>\n",
       "    <tr>\n",
       "      <th>2</th>\n",
       "      <td>9</td>\n",
       "      <td>5</td>\n",
       "      <td>5</td>\n",
       "      <td>1213</td>\n",
       "      <td>743</td>\n",
       "      <td>0.103124</td>\n",
       "      <td>668</td>\n",
       "      <td>0</td>\n",
       "      <td>0</td>\n",
       "      <td>0.9852</td>\n",
       "      <td>...</td>\n",
       "      <td>0</td>\n",
       "      <td>0</td>\n",
       "      <td>0</td>\n",
       "      <td>1</td>\n",
       "      <td>0</td>\n",
       "      <td>0</td>\n",
       "      <td>0</td>\n",
       "      <td>0</td>\n",
       "      <td>0</td>\n",
       "      <td>security_camera</td>\n",
       "    </tr>\n",
       "    <tr>\n",
       "      <th>3</th>\n",
       "      <td>9</td>\n",
       "      <td>5</td>\n",
       "      <td>5</td>\n",
       "      <td>1213</td>\n",
       "      <td>743</td>\n",
       "      <td>1.806874</td>\n",
       "      <td>668</td>\n",
       "      <td>0</td>\n",
       "      <td>0</td>\n",
       "      <td>1.5756</td>\n",
       "      <td>...</td>\n",
       "      <td>0</td>\n",
       "      <td>0</td>\n",
       "      <td>0</td>\n",
       "      <td>1</td>\n",
       "      <td>0</td>\n",
       "      <td>0</td>\n",
       "      <td>0</td>\n",
       "      <td>0</td>\n",
       "      <td>0</td>\n",
       "      <td>security_camera</td>\n",
       "    </tr>\n",
       "    <tr>\n",
       "      <th>4</th>\n",
       "      <td>9</td>\n",
       "      <td>5</td>\n",
       "      <td>5</td>\n",
       "      <td>1213</td>\n",
       "      <td>743</td>\n",
       "      <td>1.806874</td>\n",
       "      <td>668</td>\n",
       "      <td>0</td>\n",
       "      <td>0</td>\n",
       "      <td>1.5756</td>\n",
       "      <td>...</td>\n",
       "      <td>0</td>\n",
       "      <td>0</td>\n",
       "      <td>0</td>\n",
       "      <td>1</td>\n",
       "      <td>0</td>\n",
       "      <td>0</td>\n",
       "      <td>0</td>\n",
       "      <td>0</td>\n",
       "      <td>0</td>\n",
       "      <td>security_camera</td>\n",
       "    </tr>\n",
       "  </tbody>\n",
       "</table>\n",
       "<p>5 rows × 298 columns</p>\n",
       "</div>"
      ],
      "text/plain": [
       "   ack  ack_A  ack_B  bytes  bytes_A  bytes_A_B_ratio  bytes_B  ds_field_A  \\\n",
       "0    9      5      5   1213      743         0.713924      668           0   \n",
       "1    9      5      5   1213      743         1.806874      668           0   \n",
       "2    9      5      5   1213      743         0.103124      668           0   \n",
       "3    9      5      5   1213      743         1.806874      668           0   \n",
       "4    9      5      5   1213      743         1.806874      668           0   \n",
       "\n",
       "   ds_field_B  duration  ...  suffix_is_co.il  suffix_is_com  \\\n",
       "0           0    1.5756  ...                0              0   \n",
       "1           0    0.6890  ...                0              0   \n",
       "2           0    0.9852  ...                0              0   \n",
       "3           0    1.5756  ...                0              0   \n",
       "4           0    1.5756  ...                0              0   \n",
       "\n",
       "   suffix_is_com.sg  suffix_is_else  suffix_is_empty_char_value  \\\n",
       "0                 0               1                           0   \n",
       "1                 0               1                           0   \n",
       "2                 0               1                           0   \n",
       "3                 0               1                           0   \n",
       "4                 0               1                           0   \n",
       "\n",
       "   suffix_is_googleapis.com  suffix_is_net  suffix_is_org  \\\n",
       "0                         0              0              0   \n",
       "1                         0              0              0   \n",
       "2                         0              0              0   \n",
       "3                         0              0              0   \n",
       "4                         0              0              0   \n",
       "\n",
       "   suffix_is_unresolved  device_category  \n",
       "0                     0  security_camera  \n",
       "1                     0  security_camera  \n",
       "2                     0  security_camera  \n",
       "3                     0  security_camera  \n",
       "4                     0  security_camera  \n",
       "\n",
       "[5 rows x 298 columns]"
      ]
     },
     "execution_count": 43,
     "metadata": {},
     "output_type": "execute_result"
    }
   ],
   "source": [
    "#First, we call the libraries we need for initial processing\n",
    "#I'll merge training and testing sets to have more control over the test/train data ratio\n",
    "import pandas as pd\n",
    "import seaborn as sns\n",
    "import matplotlib.pyplot as plt\n",
    "sns.set(rc={'figure.figsize':(11.7,8.27)})\n",
    "train_data = pd.read_csv('https://raw.githubusercontent.com/PacktPublishing/Machine-Learning-for-Cybersecurity-Cookbook/master/Chapter05/IoT%20Device%20Type%20Identification%20Using%20Machine%20Learning/iot_devices_train.csv')\n",
    "test_data = pd.read_csv('https://raw.githubusercontent.com/PacktPublishing/Machine-Learning-for-Cybersecurity-Cookbook/master/Chapter05/IoT%20Device%20Type%20Identification%20Using%20Machine%20Learning/iot_devices_test.csv')\n",
    "all_data = train_data.append(test_data)\n",
    "all_data.to_csv('IOT Data.csv')\n",
    "all_data.head()"
   ]
  },
  {
   "cell_type": "code",
   "execution_count": 45,
   "metadata": {},
   "outputs": [
    {
     "data": {
      "text/plain": [
       "1900"
      ]
     },
     "execution_count": 45,
     "metadata": {},
     "output_type": "execute_result"
    }
   ],
   "source": [
    "#Taking a look at the data length\n",
    "len(all_data)"
   ]
  },
  {
   "cell_type": "code",
   "execution_count": 46,
   "metadata": {},
   "outputs": [
    {
     "data": {
      "text/plain": [
       "([0, 1, 2, 3, 4, 5, 6, 7, 8, 9],\n",
       " [Text(0, 0, 'security_camera'),\n",
       "  Text(1, 0, 'TV'),\n",
       "  Text(2, 0, 'smoke_detector'),\n",
       "  Text(3, 0, 'thermostat'),\n",
       "  Text(4, 0, 'water_sensor'),\n",
       "  Text(5, 0, 'watch'),\n",
       "  Text(6, 0, 'baby_monitor'),\n",
       "  Text(7, 0, 'motion_sensor'),\n",
       "  Text(8, 0, 'lights'),\n",
       "  Text(9, 0, 'socket')])"
      ]
     },
     "execution_count": 46,
     "metadata": {},
     "output_type": "execute_result"
    },
    {
     "data": {
      "image/png": "[encoded data removed]",
      "text/plain": [
       "<Figure size 500x500 with 1 Axes>"
      ]
     },
     "metadata": {},
     "output_type": "display_data"
    }
   ],
   "source": [
    "#Checking how balanced categories are\n",
    "sns.displot(all_data['device_category'])\n",
    "plt.xticks(rotation=90)"
   ]
  },
  {
   "cell_type": "code",
   "execution_count": 47,
   "metadata": {},
   "outputs": [],
   "source": [
    "#Mapped data labels to a number in order to feed this data into the model\n",
    "device_mapper = {\n",
    "'security_camera':0,\n",
    "'TV':1,\n",
    "'smoke_detector':2,\n",
    "'thermostat':3,\n",
    "'water_sensor':4,\n",
    "'watch':5,\n",
    "'baby_monitor':6,\n",
    "'motion_sensor':7,\n",
    "'lights':8,\n",
    "'socket':9\n",
    "}\n",
    "all_data['device_category'] = all_data['device_category'].map(device_mapper)"
   ]
  },
  {
   "cell_type": "code",
   "execution_count": 48,
   "metadata": {},
   "outputs": [],
   "source": [
    "#Defining train variables and target variable\n",
    "X = all_data.drop(['device_category'],axis=1)\n",
    "y = all_data['device_category']"
   ]
  },
  {
   "cell_type": "code",
   "execution_count": 49,
   "metadata": {},
   "outputs": [],
   "source": [
    "#Splitting data between train and test set\n",
    "from sklearn.model_selection import train_test_split, GridSearchCV\n",
    "X_train, X_test, y_train, y_test = train_test_split(X,y,train_size=0.8,random_state=101)"
   ]
  },
  {
   "cell_type": "code",
   "execution_count": 50,
   "metadata": {},
   "outputs": [],
   "source": [
    "#Importin preprocessing lbirary as well as metrics\n",
    "from sklearn.preprocessing import StandardScaler\n",
    "from sklearn.metrics import classification_report,confusion_matrix\n",
    "scaler = StandardScaler()\n",
    "X_train_transformed = scaler.fit_transform(X_train)\n",
    "X_test_transformed= scaler.transform(X_test)"
   ]
  },
  {
   "cell_type": "code",
   "execution_count": 51,
   "metadata": {},
   "outputs": [],
   "source": [
    "#Import PCA dependencies and set it to find 10 principal components (while testing it was discovered that 10 variables would allow is to preserve around \n",
    "# 70% of the original data variance)\n",
    "from sklearn.decomposition import PCA\n",
    "pca = PCA(n_components=10)\n",
    "X_train_transformed = pca.fit_transform(X_train_transformed)\n",
    "X_test_transformed = pca.transform(X_test_transformed)"
   ]
  },
  {
   "cell_type": "code",
   "execution_count": 52,
   "metadata": {},
   "outputs": [
    {
     "data": {
      "text/plain": [
       "array([0.17792049, 0.15294933, 0.11062943, 0.05324603, 0.04970697,\n",
       "       0.03848889, 0.03507985, 0.03399752, 0.03125193, 0.0276595 ])"
      ]
     },
     "execution_count": 52,
     "metadata": {},
     "output_type": "execute_result"
    }
   ],
   "source": [
    "#Variance ratio per component\n",
    "pca.explained_variance_ratio_"
   ]
  },
  {
   "cell_type": "code",
   "execution_count": 53,
   "metadata": {},
   "outputs": [
    {
     "data": {
      "text/plain": [
       "0.7109299246331545"
      ]
     },
     "execution_count": 53,
     "metadata": {},
     "output_type": "execute_result"
    }
   ],
   "source": [
    "#Sum of variance ratio for 10 principal components\n",
    "import numpy as np\n",
    "np.sum(pca.explained_variance_ratio_)"
   ]
  },
  {
   "cell_type": "code",
   "execution_count": 54,
   "metadata": {},
   "outputs": [
    {
     "name": "stdout",
     "output_type": "stream",
     "text": [
      "{'max_depth': 5, 'n_estimators': 100}\n",
      "{'mean_fit_time': array([ 2.37699904,  4.51789963,  8.9895165 , 11.4414557 , 14.0044961 ,\n",
      "        3.76538961,  7.14864163, 13.76210861, 17.04113081, 19.54229527,\n",
      "        8.15400608, 15.57764909, 22.28462136, 24.10572271, 22.94355474]), 'std_fit_time': array([0.08358635, 0.0804863 , 0.05223854, 0.24375505, 0.30440251,\n",
      "       0.11167805, 0.04614951, 0.08633639, 0.31149998, 0.38533711,\n",
      "       0.21829897, 0.20835627, 0.37248416, 0.54002936, 2.25359044]), 'mean_score_time': array([0.00209916, 0.00320001, 0.00549955, 0.00670068, 0.00814559,\n",
      "       0.00309975, 0.00520024, 0.00850053, 0.01210055, 0.01239972,\n",
      "       0.00720115, 0.01369987, 0.01560047, 0.01790006, 0.01660056]), 'std_score_time': array([0.00029966, 0.00039866, 0.00050001, 0.00064078, 0.00200207,\n",
      "       0.00030023, 0.0003999 , 0.00050006, 0.00311298, 0.00135634,\n",
      "       0.00074822, 0.00681295, 0.00066331, 0.00301491, 0.00525693]), 'param_max_depth': masked_array(data=[3, 3, 3, 3, 3, 5, 5, 5, 5, 5, 10, 10, 10, 10, 10],\n",
      "             mask=[False, False, False, False, False, False, False, False,\n",
      "                   False, False, False, False, False, False, False],\n",
      "       fill_value='?',\n",
      "            dtype=object), 'param_n_estimators': masked_array(data=[50, 100, 200, 250, 300, 50, 100, 200, 250, 300, 50,\n",
      "                   100, 200, 250, 300],\n",
      "             mask=[False, False, False, False, False, False, False, False,\n",
      "                   False, False, False, False, False, False, False],\n",
      "       fill_value='?',\n",
      "            dtype=object), 'params': [{'max_depth': 3, 'n_estimators': 50}, {'max_depth': 3, 'n_estimators': 100}, {'max_depth': 3, 'n_estimators': 200}, {'max_depth': 3, 'n_estimators': 250}, {'max_depth': 3, 'n_estimators': 300}, {'max_depth': 5, 'n_estimators': 50}, {'max_depth': 5, 'n_estimators': 100}, {'max_depth': 5, 'n_estimators': 200}, {'max_depth': 5, 'n_estimators': 250}, {'max_depth': 5, 'n_estimators': 300}, {'max_depth': 10, 'n_estimators': 50}, {'max_depth': 10, 'n_estimators': 100}, {'max_depth': 10, 'n_estimators': 200}, {'max_depth': 10, 'n_estimators': 250}, {'max_depth': 10, 'n_estimators': 300}], 'split0_test_score': array([0.78289474, 0.80263158, 0.80921053, 0.81578947, 0.80921053,\n",
      "       0.82236842, 0.82236842, 0.80921053, 0.80921053, 0.81578947,\n",
      "       0.81578947, 0.80263158, 0.80921053, 0.80921053, 0.80921053]), 'split1_test_score': array([0.82236842, 0.82236842, 0.84210526, 0.84210526, 0.83552632,\n",
      "       0.82236842, 0.83552632, 0.83552632, 0.84210526, 0.84210526,\n",
      "       0.83552632, 0.83552632, 0.83552632, 0.82236842, 0.83552632]), 'split2_test_score': array([0.78289474, 0.80921053, 0.78947368, 0.79605263, 0.80263158,\n",
      "       0.82236842, 0.81578947, 0.82236842, 0.81578947, 0.82236842,\n",
      "       0.80921053, 0.81578947, 0.82894737, 0.80921053, 0.80921053]), 'split3_test_score': array([0.84210526, 0.82894737, 0.82894737, 0.84210526, 0.84210526,\n",
      "       0.82894737, 0.83552632, 0.82894737, 0.82894737, 0.82894737,\n",
      "       0.85526316, 0.84210526, 0.83552632, 0.83552632, 0.83552632]), 'split4_test_score': array([0.85526316, 0.85526316, 0.85526316, 0.84210526, 0.84868421,\n",
      "       0.82894737, 0.83552632, 0.84868421, 0.84210526, 0.84210526,\n",
      "       0.83552632, 0.82894737, 0.84210526, 0.83552632, 0.82894737]), 'split5_test_score': array([0.82894737, 0.81578947, 0.81578947, 0.82894737, 0.83552632,\n",
      "       0.84868421, 0.875     , 0.875     , 0.86842105, 0.86184211,\n",
      "       0.875     , 0.85526316, 0.86842105, 0.86184211, 0.85526316]), 'split6_test_score': array([0.82894737, 0.84210526, 0.82894737, 0.82894737, 0.82894737,\n",
      "       0.83552632, 0.81578947, 0.80263158, 0.84210526, 0.82236842,\n",
      "       0.80263158, 0.80263158, 0.79605263, 0.79605263, 0.80921053]), 'split7_test_score': array([0.88157895, 0.875     , 0.85526316, 0.84868421, 0.84868421,\n",
      "       0.86842105, 0.86184211, 0.86184211, 0.85526316, 0.83552632,\n",
      "       0.83552632, 0.83552632, 0.82236842, 0.81578947, 0.84210526]), 'split8_test_score': array([0.83552632, 0.84868421, 0.86842105, 0.84868421, 0.84210526,\n",
      "       0.875     , 0.875     , 0.88157895, 0.875     , 0.875     ,\n",
      "       0.82894737, 0.83552632, 0.85526316, 0.85526316, 0.84210526]), 'split9_test_score': array([0.79605263, 0.78947368, 0.78947368, 0.79605263, 0.79605263,\n",
      "       0.79605263, 0.79605263, 0.77631579, 0.78289474, 0.78289474,\n",
      "       0.81578947, 0.80263158, 0.78947368, 0.80263158, 0.80263158]), 'mean_test_score': array([0.82565789, 0.82894737, 0.82828947, 0.82894737, 0.82894737,\n",
      "       0.83486842, 0.83684211, 0.83421053, 0.83618421, 0.83289474,\n",
      "       0.83092105, 0.82565789, 0.82828947, 0.82434211, 0.82697368]), 'std_test_score': array([0.02989623, 0.02496535, 0.02605961, 0.0190676 , 0.018374  ,\n",
      "       0.02230059, 0.02510366, 0.03166108, 0.02655321, 0.02411882,\n",
      "       0.02081486, 0.01771436, 0.02362016, 0.02102177, 0.01716841]), 'rank_test_score': array([13,  9, 10,  7,  7,  3,  1,  4,  2,  5,  6, 13, 10, 15, 12])}\n",
      "              precision    recall  f1-score   support\n",
      "\n",
      "           0       0.96      0.98      0.97        48\n",
      "           1       0.88      0.81      0.84        43\n",
      "           2       1.00      1.00      1.00        38\n",
      "           3       0.95      1.00      0.98        41\n",
      "           4       0.36      0.53      0.43        17\n",
      "           5       0.81      0.79      0.80        33\n",
      "           6       0.94      0.97      0.96        34\n",
      "           7       0.98      0.98      0.98        49\n",
      "           8       0.44      0.42      0.43        36\n",
      "           9       0.49      0.41      0.45        41\n",
      "\n",
      "    accuracy                           0.81       380\n",
      "   macro avg       0.78      0.79      0.78       380\n",
      "weighted avg       0.81      0.81      0.81       380\n",
      "\n"
     ]
    },
    {
     "data": {
      "text/plain": [
       "<AxesSubplot:>"
      ]
     },
     "execution_count": 54,
     "metadata": {},
     "output_type": "execute_result"
    },
    {
     "data": {
      "image/png": "[encoded data removed]",
      "text/plain": [
       "<Figure size 1170x827 with 2 Axes>"
      ]
     },
     "metadata": {},
     "output_type": "display_data"
    }
   ],
   "source": [
    "#We define a GBT model \n",
    "\n",
    "#Gradient Boosted trees\n",
    "from sklearn.ensemble import GradientBoostingClassifier\n",
    "model = GradientBoostingClassifier()\n",
    "params = {\n",
    "    'n_estimators': [50,100,200,250,300],\n",
    "    'max_depth':[3,5,10]\n",
    "}\n",
    "grid = GridSearchCV(estimator=model,param_grid=params, cv=10,n_jobs=-1)\n",
    "# fitting the model for grid search \n",
    "grid.fit(X_train_transformed, y_train) \n",
    " \n",
    "# print best parameter after tuning \n",
    "print(grid.best_params_) \n",
    "y_pred = grid.predict(X_test_transformed) \n",
    "\n",
    "#get scores\n",
    "print(grid.cv_results_) \n",
    "   \n",
    "# print classification report \n",
    "print(classification_report(y_test, y_pred))\n",
    "\n",
    "#print confussion matrix\n",
    "sns.heatmap(confusion_matrix(y_test, y_pred), annot=True, fmt='2g')\n",
    "\n"
   ]
  },
  {
   "cell_type": "code",
   "execution_count": 55,
   "metadata": {},
   "outputs": [
    {
     "name": "stdout",
     "output_type": "stream",
     "text": [
      "              precision    recall  f1-score   support\n",
      "\n",
      "           0       0.96      0.98      0.97        48\n",
      "           1       0.88      0.81      0.84        43\n",
      "           2       1.00      1.00      1.00        38\n",
      "           3       0.95      1.00      0.98        41\n",
      "           4       0.36      0.53      0.43        17\n",
      "           5       0.81      0.79      0.80        33\n",
      "           6       0.94      0.97      0.96        34\n",
      "           7       0.98      0.98      0.98        49\n",
      "           8       0.44      0.42      0.43        36\n",
      "           9       0.49      0.41      0.45        41\n",
      "\n",
      "    accuracy                           0.81       380\n",
      "   macro avg       0.78      0.79      0.78       380\n",
      "weighted avg       0.81      0.81      0.81       380\n",
      "\n"
     ]
    }
   ],
   "source": [
    "   \n",
    "# print classification report \n",
    "print(classification_report(y_test, y_pred))\n"
   ]
  },
  {
   "cell_type": "code",
   "execution_count": null,
   "metadata": {},
   "outputs": [],
   "source": []
  }
 ],
 "metadata": {
  "kernelspec": {
   "display_name": "Python 3.9.1 64-bit",
   "language": "python",
   "name": "python3"
  },
  "language_info": {
   "codemirror_mode": {
    "name": "ipython",
    "version": 3
   },
   "file_extension": ".py",
   "mimetype": "text/x-python",
   "name": "python",
   "nbconvert_exporter": "python",
   "pygments_lexer": "ipython3",
   "version": "3.9.1"
  },
  "orig_nbformat": 4,
  "vscode": {
   "interpreter": {
    "hash": "fefe1bf480c11bf003fba226430f9cc6591c2a11b0f80c22005b6e46c2183a03"
   }
  }
 },
 "nbformat": 4,
 "nbformat_minor": 2
}
